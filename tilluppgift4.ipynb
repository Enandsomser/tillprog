{
 "metadata": {
  "language_info": {
   "codemirror_mode": {
    "name": "ipython",
    "version": 3
   },
   "file_extension": ".py",
   "mimetype": "text/x-python",
   "name": "python",
   "nbconvert_exporter": "python",
   "pygments_lexer": "ipython3",
   "version": "3.8.3-final"
  },
  "orig_nbformat": 2,
  "kernelspec": {
   "name": "python3",
   "display_name": "Python 3"
  }
 },
 "nbformat": 4,
 "nbformat_minor": 2,
 "cells": [
  {
   "cell_type": "code",
   "execution_count": 1,
   "metadata": {},
   "outputs": [
    {
     "output_type": "stream",
     "name": "stdout",
     "text": [
      "Arean är 95\nHöjden | Volymen\n----------------\n1 | 95\n2 | 190\n3 | 285\n4 | 380\n5 | 475\n6 | 570\n7 | 665\n8 | 760\n9 | 855\n10 | 950\n"
     ]
    }
   ],
   "source": [
    "#M04(A)\n",
    "x=int(input(\"Välj storleken på kortsidan.\"))\n",
    "y=int(input(\"Välj storleken på långsidan.\"))\n",
    "\n",
    "z=x*y\n",
    "if x==y:\n",
    "    print(\"Det är en kvadrat med arean\",z)\n",
    "else:\n",
    "    print(\"Arean är\",z)\n",
    "print(\"Höjden | Volymen\")\n",
    "print(\"----------------\")\n",
    "for i in range(1, 11):\n",
    "    print(i,\"|\",i*z)\n",
    "\n",
    "#Jag vet att jag ska använda en while sats och en funktion men vet inte hur jag ska göra"
   ]
  }
 ]
}